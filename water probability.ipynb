{
 "cells": [
  {
   "cell_type": "code",
   "execution_count": 210,
   "metadata": {},
   "outputs": [],
   "source": [
    "import numpy as np\n",
    "import pandas as pd\n",
    "import matplotlib.pyplot as plt\n"
   ]
  },
  {
   "cell_type": "code",
   "execution_count": 211,
   "metadata": {},
   "outputs": [],
   "source": [
    "data_train = pd.read_csv(\"train.csv\")\n",
    "data_test = pd.read_csv(\"test.csv\")"
   ]
  },
  {
   "cell_type": "code",
   "execution_count": 212,
   "metadata": {},
   "outputs": [
    {
     "data": {
      "text/html": [
       "<div>\n",
       "<style scoped>\n",
       "    .dataframe tbody tr th:only-of-type {\n",
       "        vertical-align: middle;\n",
       "    }\n",
       "\n",
       "    .dataframe tbody tr th {\n",
       "        vertical-align: top;\n",
       "    }\n",
       "\n",
       "    .dataframe thead th {\n",
       "        text-align: right;\n",
       "    }\n",
       "</style>\n",
       "<table border=\"1\" class=\"dataframe\">\n",
       "  <thead>\n",
       "    <tr style=\"text-align: right;\">\n",
       "      <th></th>\n",
       "      <th>region_area_</th>\n",
       "      <th>ph</th>\n",
       "      <th>Hardness</th>\n",
       "      <th>Solids</th>\n",
       "      <th>Chloramines</th>\n",
       "      <th>Sulfate</th>\n",
       "      <th>Conductivity</th>\n",
       "      <th>Organic_carbon</th>\n",
       "      <th>Trihalomethanes</th>\n",
       "      <th>Turbidity</th>\n",
       "      <th>Potability</th>\n",
       "    </tr>\n",
       "  </thead>\n",
       "  <tbody>\n",
       "    <tr>\n",
       "      <th>0</th>\n",
       "      <td>region_area_1</td>\n",
       "      <td>3.716080</td>\n",
       "      <td>180.196811</td>\n",
       "      <td>18630.362669</td>\n",
       "      <td>6.330435</td>\n",
       "      <td>NaN</td>\n",
       "      <td>602.990359</td>\n",
       "      <td>15.285013</td>\n",
       "      <td>56.444076</td>\n",
       "      <td>4.500656</td>\n",
       "      <td>0</td>\n",
       "    </tr>\n",
       "    <tr>\n",
       "      <th>1</th>\n",
       "      <td>region_area_100</td>\n",
       "      <td>4.270716</td>\n",
       "      <td>217.611599</td>\n",
       "      <td>24405.555346</td>\n",
       "      <td>7.086700</td>\n",
       "      <td>297.951852</td>\n",
       "      <td>359.623910</td>\n",
       "      <td>13.583526</td>\n",
       "      <td>54.589840</td>\n",
       "      <td>3.763906</td>\n",
       "      <td>0</td>\n",
       "    </tr>\n",
       "    <tr>\n",
       "      <th>2</th>\n",
       "      <td>region_area_1000</td>\n",
       "      <td>6.648849</td>\n",
       "      <td>232.462013</td>\n",
       "      <td>30733.808648</td>\n",
       "      <td>5.656462</td>\n",
       "      <td>344.670335</td>\n",
       "      <td>267.809179</td>\n",
       "      <td>17.863444</td>\n",
       "      <td>35.411181</td>\n",
       "      <td>4.827527</td>\n",
       "      <td>0</td>\n",
       "    </tr>\n",
       "    <tr>\n",
       "      <th>3</th>\n",
       "      <td>region_area_1001</td>\n",
       "      <td>NaN</td>\n",
       "      <td>261.753637</td>\n",
       "      <td>21174.713291</td>\n",
       "      <td>7.314074</td>\n",
       "      <td>NaN</td>\n",
       "      <td>582.848407</td>\n",
       "      <td>15.215849</td>\n",
       "      <td>90.367455</td>\n",
       "      <td>4.217553</td>\n",
       "      <td>0</td>\n",
       "    </tr>\n",
       "    <tr>\n",
       "      <th>4</th>\n",
       "      <td>region_area_1002</td>\n",
       "      <td>9.323584</td>\n",
       "      <td>263.484560</td>\n",
       "      <td>15751.480111</td>\n",
       "      <td>5.196259</td>\n",
       "      <td>297.593625</td>\n",
       "      <td>409.878704</td>\n",
       "      <td>10.727265</td>\n",
       "      <td>74.669285</td>\n",
       "      <td>3.006650</td>\n",
       "      <td>0</td>\n",
       "    </tr>\n",
       "  </tbody>\n",
       "</table>\n",
       "</div>"
      ],
      "text/plain": [
       "       region_area_        ph    Hardness        Solids  Chloramines  \\\n",
       "0     region_area_1  3.716080  180.196811  18630.362669     6.330435   \n",
       "1   region_area_100  4.270716  217.611599  24405.555346     7.086700   \n",
       "2  region_area_1000  6.648849  232.462013  30733.808648     5.656462   \n",
       "3  region_area_1001       NaN  261.753637  21174.713291     7.314074   \n",
       "4  region_area_1002  9.323584  263.484560  15751.480111     5.196259   \n",
       "\n",
       "      Sulfate  Conductivity  Organic_carbon  Trihalomethanes  Turbidity  \\\n",
       "0         NaN    602.990359       15.285013        56.444076   4.500656   \n",
       "1  297.951852    359.623910       13.583526        54.589840   3.763906   \n",
       "2  344.670335    267.809179       17.863444        35.411181   4.827527   \n",
       "3         NaN    582.848407       15.215849        90.367455   4.217553   \n",
       "4  297.593625    409.878704       10.727265        74.669285   3.006650   \n",
       "\n",
       "   Potability  \n",
       "0           0  \n",
       "1           0  \n",
       "2           0  \n",
       "3           0  \n",
       "4           0  "
      ]
     },
     "execution_count": 212,
     "metadata": {},
     "output_type": "execute_result"
    }
   ],
   "source": [
    "data_train.head()"
   ]
  },
  {
   "cell_type": "code",
   "execution_count": 213,
   "metadata": {},
   "outputs": [
    {
     "data": {
      "text/plain": [
       "region_area_         0\n",
       "ph                 336\n",
       "Hardness             0\n",
       "Solids               0\n",
       "Chloramines          0\n",
       "Sulfate            547\n",
       "Conductivity         0\n",
       "Organic_carbon       0\n",
       "Trihalomethanes    111\n",
       "Turbidity            0\n",
       "Potability           0\n",
       "dtype: int64"
      ]
     },
     "execution_count": 213,
     "metadata": {},
     "output_type": "execute_result"
    }
   ],
   "source": [
    "data_train.isnull().sum()"
   ]
  },
  {
   "cell_type": "code",
   "execution_count": 214,
   "metadata": {},
   "outputs": [
    {
     "data": {
      "text/plain": [
       "region_area_         0\n",
       "ph                 155\n",
       "Hardness             0\n",
       "Solids               0\n",
       "Chloramines          0\n",
       "Sulfate            234\n",
       "Conductivity         0\n",
       "Organic_carbon       0\n",
       "Trihalomethanes     51\n",
       "Turbidity            0\n",
       "dtype: int64"
      ]
     },
     "execution_count": 214,
     "metadata": {},
     "output_type": "execute_result"
    }
   ],
   "source": [
    "data_test.isnull().sum()"
   ]
  },
  {
   "cell_type": "code",
   "execution_count": 215,
   "metadata": {},
   "outputs": [],
   "source": [
    "#problems\n",
    "# null values\n",
    "# imbalance dataset\n",
    "\n",
    "\n",
    "null_values_columns = [\"ph\", \"sulfate\", \"Trihalomethanes\"]"
   ]
  },
  {
   "cell_type": "code",
   "execution_count": 216,
   "metadata": {
    "scrolled": false
   },
   "outputs": [
    {
     "data": {
      "text/plain": [
       "Potability\n",
       "0    1382\n",
       "1     878\n",
       "dtype: int64"
      ]
     },
     "execution_count": 216,
     "metadata": {},
     "output_type": "execute_result"
    }
   ],
   "source": [
    "data_train.value_counts(data_train[\"Potability\"])"
   ]
  },
  {
   "cell_type": "code",
   "execution_count": 217,
   "metadata": {},
   "outputs": [
    {
     "data": {
      "text/html": [
       "<div>\n",
       "<style scoped>\n",
       "    .dataframe tbody tr th:only-of-type {\n",
       "        vertical-align: middle;\n",
       "    }\n",
       "\n",
       "    .dataframe tbody tr th {\n",
       "        vertical-align: top;\n",
       "    }\n",
       "\n",
       "    .dataframe thead th {\n",
       "        text-align: right;\n",
       "    }\n",
       "</style>\n",
       "<table border=\"1\" class=\"dataframe\">\n",
       "  <thead>\n",
       "    <tr style=\"text-align: right;\">\n",
       "      <th></th>\n",
       "      <th>region_area_</th>\n",
       "      <th>ph</th>\n",
       "      <th>Hardness</th>\n",
       "      <th>Solids</th>\n",
       "      <th>Chloramines</th>\n",
       "      <th>Sulfate</th>\n",
       "      <th>Conductivity</th>\n",
       "      <th>Organic_carbon</th>\n",
       "      <th>Trihalomethanes</th>\n",
       "      <th>Turbidity</th>\n",
       "    </tr>\n",
       "  </thead>\n",
       "  <tbody>\n",
       "    <tr>\n",
       "      <th>0</th>\n",
       "      <td>region_area_0</td>\n",
       "      <td>NaN</td>\n",
       "      <td>255.664346</td>\n",
       "      <td>20791.623791</td>\n",
       "      <td>6.995401</td>\n",
       "      <td>369.261555</td>\n",
       "      <td>574.413654</td>\n",
       "      <td>10.484783</td>\n",
       "      <td>87.105970</td>\n",
       "      <td>2.963135</td>\n",
       "    </tr>\n",
       "    <tr>\n",
       "      <th>1</th>\n",
       "      <td>region_area_10</td>\n",
       "      <td>7.360640</td>\n",
       "      <td>216.294688</td>\n",
       "      <td>32452.919220</td>\n",
       "      <td>7.245890</td>\n",
       "      <td>327.369467</td>\n",
       "      <td>435.488419</td>\n",
       "      <td>15.691810</td>\n",
       "      <td>78.855016</td>\n",
       "      <td>3.662292</td>\n",
       "    </tr>\n",
       "    <tr>\n",
       "      <th>2</th>\n",
       "      <td>region_area_1006</td>\n",
       "      <td>7.230845</td>\n",
       "      <td>228.348694</td>\n",
       "      <td>17864.994196</td>\n",
       "      <td>5.513418</td>\n",
       "      <td>344.338446</td>\n",
       "      <td>377.794992</td>\n",
       "      <td>20.017950</td>\n",
       "      <td>59.418053</td>\n",
       "      <td>5.622018</td>\n",
       "    </tr>\n",
       "    <tr>\n",
       "      <th>3</th>\n",
       "      <td>region_area_1010</td>\n",
       "      <td>4.797460</td>\n",
       "      <td>241.089018</td>\n",
       "      <td>21280.551369</td>\n",
       "      <td>5.883692</td>\n",
       "      <td>327.539307</td>\n",
       "      <td>367.541193</td>\n",
       "      <td>11.818821</td>\n",
       "      <td>63.978068</td>\n",
       "      <td>4.038503</td>\n",
       "    </tr>\n",
       "    <tr>\n",
       "      <th>4</th>\n",
       "      <td>region_area_1011</td>\n",
       "      <td>9.319176</td>\n",
       "      <td>250.107456</td>\n",
       "      <td>14294.545161</td>\n",
       "      <td>7.480130</td>\n",
       "      <td>366.796865</td>\n",
       "      <td>348.546450</td>\n",
       "      <td>15.320293</td>\n",
       "      <td>63.506468</td>\n",
       "      <td>4.129230</td>\n",
       "    </tr>\n",
       "  </tbody>\n",
       "</table>\n",
       "</div>"
      ],
      "text/plain": [
       "       region_area_        ph    Hardness        Solids  Chloramines  \\\n",
       "0     region_area_0       NaN  255.664346  20791.623791     6.995401   \n",
       "1    region_area_10  7.360640  216.294688  32452.919220     7.245890   \n",
       "2  region_area_1006  7.230845  228.348694  17864.994196     5.513418   \n",
       "3  region_area_1010  4.797460  241.089018  21280.551369     5.883692   \n",
       "4  region_area_1011  9.319176  250.107456  14294.545161     7.480130   \n",
       "\n",
       "      Sulfate  Conductivity  Organic_carbon  Trihalomethanes  Turbidity  \n",
       "0  369.261555    574.413654       10.484783        87.105970   2.963135  \n",
       "1  327.369467    435.488419       15.691810        78.855016   3.662292  \n",
       "2  344.338446    377.794992       20.017950        59.418053   5.622018  \n",
       "3  327.539307    367.541193       11.818821        63.978068   4.038503  \n",
       "4  366.796865    348.546450       15.320293        63.506468   4.129230  "
      ]
     },
     "execution_count": 217,
     "metadata": {},
     "output_type": "execute_result"
    }
   ],
   "source": [
    "data_test.head()"
   ]
  },
  {
   "cell_type": "code",
   "execution_count": 218,
   "metadata": {},
   "outputs": [],
   "source": [
    "# dropping the region_area_ column\n",
    "\n",
    "data_train = data_train.drop(columns=\"region_area_\", axis=1)"
   ]
  },
  {
   "cell_type": "code",
   "execution_count": 219,
   "metadata": {},
   "outputs": [],
   "source": [
    "data_test = data_test.drop(columns=\"region_area_\", axis=1)"
   ]
  },
  {
   "cell_type": "code",
   "execution_count": 220,
   "metadata": {
    "scrolled": true
   },
   "outputs": [
    {
     "data": {
      "text/html": [
       "<div>\n",
       "<style scoped>\n",
       "    .dataframe tbody tr th:only-of-type {\n",
       "        vertical-align: middle;\n",
       "    }\n",
       "\n",
       "    .dataframe tbody tr th {\n",
       "        vertical-align: top;\n",
       "    }\n",
       "\n",
       "    .dataframe thead th {\n",
       "        text-align: right;\n",
       "    }\n",
       "</style>\n",
       "<table border=\"1\" class=\"dataframe\">\n",
       "  <thead>\n",
       "    <tr style=\"text-align: right;\">\n",
       "      <th></th>\n",
       "      <th>ph</th>\n",
       "      <th>Hardness</th>\n",
       "      <th>Solids</th>\n",
       "      <th>Chloramines</th>\n",
       "      <th>Sulfate</th>\n",
       "      <th>Conductivity</th>\n",
       "      <th>Organic_carbon</th>\n",
       "      <th>Trihalomethanes</th>\n",
       "      <th>Turbidity</th>\n",
       "      <th>Potability</th>\n",
       "    </tr>\n",
       "  </thead>\n",
       "  <tbody>\n",
       "    <tr>\n",
       "      <th>0</th>\n",
       "      <td>3.716080</td>\n",
       "      <td>180.196811</td>\n",
       "      <td>18630.362669</td>\n",
       "      <td>6.330435</td>\n",
       "      <td>NaN</td>\n",
       "      <td>602.990359</td>\n",
       "      <td>15.285013</td>\n",
       "      <td>56.444076</td>\n",
       "      <td>4.500656</td>\n",
       "      <td>0</td>\n",
       "    </tr>\n",
       "    <tr>\n",
       "      <th>1</th>\n",
       "      <td>4.270716</td>\n",
       "      <td>217.611599</td>\n",
       "      <td>24405.555346</td>\n",
       "      <td>7.086700</td>\n",
       "      <td>297.951852</td>\n",
       "      <td>359.623910</td>\n",
       "      <td>13.583526</td>\n",
       "      <td>54.589840</td>\n",
       "      <td>3.763906</td>\n",
       "      <td>0</td>\n",
       "    </tr>\n",
       "    <tr>\n",
       "      <th>2</th>\n",
       "      <td>6.648849</td>\n",
       "      <td>232.462013</td>\n",
       "      <td>30733.808648</td>\n",
       "      <td>5.656462</td>\n",
       "      <td>344.670335</td>\n",
       "      <td>267.809179</td>\n",
       "      <td>17.863444</td>\n",
       "      <td>35.411181</td>\n",
       "      <td>4.827527</td>\n",
       "      <td>0</td>\n",
       "    </tr>\n",
       "    <tr>\n",
       "      <th>3</th>\n",
       "      <td>NaN</td>\n",
       "      <td>261.753637</td>\n",
       "      <td>21174.713291</td>\n",
       "      <td>7.314074</td>\n",
       "      <td>NaN</td>\n",
       "      <td>582.848407</td>\n",
       "      <td>15.215849</td>\n",
       "      <td>90.367455</td>\n",
       "      <td>4.217553</td>\n",
       "      <td>0</td>\n",
       "    </tr>\n",
       "    <tr>\n",
       "      <th>4</th>\n",
       "      <td>9.323584</td>\n",
       "      <td>263.484560</td>\n",
       "      <td>15751.480111</td>\n",
       "      <td>5.196259</td>\n",
       "      <td>297.593625</td>\n",
       "      <td>409.878704</td>\n",
       "      <td>10.727265</td>\n",
       "      <td>74.669285</td>\n",
       "      <td>3.006650</td>\n",
       "      <td>0</td>\n",
       "    </tr>\n",
       "  </tbody>\n",
       "</table>\n",
       "</div>"
      ],
      "text/plain": [
       "         ph    Hardness        Solids  Chloramines     Sulfate  Conductivity  \\\n",
       "0  3.716080  180.196811  18630.362669     6.330435         NaN    602.990359   \n",
       "1  4.270716  217.611599  24405.555346     7.086700  297.951852    359.623910   \n",
       "2  6.648849  232.462013  30733.808648     5.656462  344.670335    267.809179   \n",
       "3       NaN  261.753637  21174.713291     7.314074         NaN    582.848407   \n",
       "4  9.323584  263.484560  15751.480111     5.196259  297.593625    409.878704   \n",
       "\n",
       "   Organic_carbon  Trihalomethanes  Turbidity  Potability  \n",
       "0       15.285013        56.444076   4.500656           0  \n",
       "1       13.583526        54.589840   3.763906           0  \n",
       "2       17.863444        35.411181   4.827527           0  \n",
       "3       15.215849        90.367455   4.217553           0  \n",
       "4       10.727265        74.669285   3.006650           0  "
      ]
     },
     "execution_count": 220,
     "metadata": {},
     "output_type": "execute_result"
    }
   ],
   "source": [
    "data_train.head()"
   ]
  },
  {
   "cell_type": "code",
   "execution_count": 221,
   "metadata": {},
   "outputs": [
    {
     "data": {
      "text/html": [
       "<div>\n",
       "<style scoped>\n",
       "    .dataframe tbody tr th:only-of-type {\n",
       "        vertical-align: middle;\n",
       "    }\n",
       "\n",
       "    .dataframe tbody tr th {\n",
       "        vertical-align: top;\n",
       "    }\n",
       "\n",
       "    .dataframe thead th {\n",
       "        text-align: right;\n",
       "    }\n",
       "</style>\n",
       "<table border=\"1\" class=\"dataframe\">\n",
       "  <thead>\n",
       "    <tr style=\"text-align: right;\">\n",
       "      <th></th>\n",
       "      <th>ph</th>\n",
       "      <th>Hardness</th>\n",
       "      <th>Solids</th>\n",
       "      <th>Chloramines</th>\n",
       "      <th>Sulfate</th>\n",
       "      <th>Conductivity</th>\n",
       "      <th>Organic_carbon</th>\n",
       "      <th>Trihalomethanes</th>\n",
       "      <th>Turbidity</th>\n",
       "    </tr>\n",
       "  </thead>\n",
       "  <tbody>\n",
       "    <tr>\n",
       "      <th>0</th>\n",
       "      <td>NaN</td>\n",
       "      <td>255.664346</td>\n",
       "      <td>20791.623791</td>\n",
       "      <td>6.995401</td>\n",
       "      <td>369.261555</td>\n",
       "      <td>574.413654</td>\n",
       "      <td>10.484783</td>\n",
       "      <td>87.105970</td>\n",
       "      <td>2.963135</td>\n",
       "    </tr>\n",
       "    <tr>\n",
       "      <th>1</th>\n",
       "      <td>7.360640</td>\n",
       "      <td>216.294688</td>\n",
       "      <td>32452.919220</td>\n",
       "      <td>7.245890</td>\n",
       "      <td>327.369467</td>\n",
       "      <td>435.488419</td>\n",
       "      <td>15.691810</td>\n",
       "      <td>78.855016</td>\n",
       "      <td>3.662292</td>\n",
       "    </tr>\n",
       "    <tr>\n",
       "      <th>2</th>\n",
       "      <td>7.230845</td>\n",
       "      <td>228.348694</td>\n",
       "      <td>17864.994196</td>\n",
       "      <td>5.513418</td>\n",
       "      <td>344.338446</td>\n",
       "      <td>377.794992</td>\n",
       "      <td>20.017950</td>\n",
       "      <td>59.418053</td>\n",
       "      <td>5.622018</td>\n",
       "    </tr>\n",
       "    <tr>\n",
       "      <th>3</th>\n",
       "      <td>4.797460</td>\n",
       "      <td>241.089018</td>\n",
       "      <td>21280.551369</td>\n",
       "      <td>5.883692</td>\n",
       "      <td>327.539307</td>\n",
       "      <td>367.541193</td>\n",
       "      <td>11.818821</td>\n",
       "      <td>63.978068</td>\n",
       "      <td>4.038503</td>\n",
       "    </tr>\n",
       "    <tr>\n",
       "      <th>4</th>\n",
       "      <td>9.319176</td>\n",
       "      <td>250.107456</td>\n",
       "      <td>14294.545161</td>\n",
       "      <td>7.480130</td>\n",
       "      <td>366.796865</td>\n",
       "      <td>348.546450</td>\n",
       "      <td>15.320293</td>\n",
       "      <td>63.506468</td>\n",
       "      <td>4.129230</td>\n",
       "    </tr>\n",
       "  </tbody>\n",
       "</table>\n",
       "</div>"
      ],
      "text/plain": [
       "         ph    Hardness        Solids  Chloramines     Sulfate  Conductivity  \\\n",
       "0       NaN  255.664346  20791.623791     6.995401  369.261555    574.413654   \n",
       "1  7.360640  216.294688  32452.919220     7.245890  327.369467    435.488419   \n",
       "2  7.230845  228.348694  17864.994196     5.513418  344.338446    377.794992   \n",
       "3  4.797460  241.089018  21280.551369     5.883692  327.539307    367.541193   \n",
       "4  9.319176  250.107456  14294.545161     7.480130  366.796865    348.546450   \n",
       "\n",
       "   Organic_carbon  Trihalomethanes  Turbidity  \n",
       "0       10.484783        87.105970   2.963135  \n",
       "1       15.691810        78.855016   3.662292  \n",
       "2       20.017950        59.418053   5.622018  \n",
       "3       11.818821        63.978068   4.038503  \n",
       "4       15.320293        63.506468   4.129230  "
      ]
     },
     "execution_count": 221,
     "metadata": {},
     "output_type": "execute_result"
    }
   ],
   "source": [
    "data_test.head()"
   ]
  },
  {
   "cell_type": "code",
   "execution_count": 222,
   "metadata": {},
   "outputs": [],
   "source": [
    "#fixing the missing value problem \n",
    "\n",
    "from sklearn.impute import SimpleImputer\n",
    "\n",
    "my_imputer = SimpleImputer()\n",
    "data_imputed = pd.DataFrame(my_imputer.fit_transform(data_train))\n",
    "\n",
    "data_imputed.columns = data_train.columns"
   ]
  },
  {
   "cell_type": "code",
   "execution_count": 223,
   "metadata": {},
   "outputs": [],
   "source": [
    "test_data_imputed = pd.DataFrame(my_imputer.fit_transform(data_test))\n",
    "test_data_imputed.columns = data_test.columns"
   ]
  },
  {
   "cell_type": "code",
   "execution_count": 224,
   "metadata": {
    "scrolled": true
   },
   "outputs": [
    {
     "data": {
      "text/html": [
       "<div>\n",
       "<style scoped>\n",
       "    .dataframe tbody tr th:only-of-type {\n",
       "        vertical-align: middle;\n",
       "    }\n",
       "\n",
       "    .dataframe tbody tr th {\n",
       "        vertical-align: top;\n",
       "    }\n",
       "\n",
       "    .dataframe thead th {\n",
       "        text-align: right;\n",
       "    }\n",
       "</style>\n",
       "<table border=\"1\" class=\"dataframe\">\n",
       "  <thead>\n",
       "    <tr style=\"text-align: right;\">\n",
       "      <th></th>\n",
       "      <th>ph</th>\n",
       "      <th>Hardness</th>\n",
       "      <th>Solids</th>\n",
       "      <th>Chloramines</th>\n",
       "      <th>Sulfate</th>\n",
       "      <th>Conductivity</th>\n",
       "      <th>Organic_carbon</th>\n",
       "      <th>Trihalomethanes</th>\n",
       "      <th>Turbidity</th>\n",
       "      <th>Potability</th>\n",
       "    </tr>\n",
       "  </thead>\n",
       "  <tbody>\n",
       "    <tr>\n",
       "      <th>0</th>\n",
       "      <td>3.716080</td>\n",
       "      <td>180.196811</td>\n",
       "      <td>18630.362669</td>\n",
       "      <td>6.330435</td>\n",
       "      <td>334.601013</td>\n",
       "      <td>602.990359</td>\n",
       "      <td>15.285013</td>\n",
       "      <td>56.444076</td>\n",
       "      <td>4.500656</td>\n",
       "      <td>0.0</td>\n",
       "    </tr>\n",
       "    <tr>\n",
       "      <th>1</th>\n",
       "      <td>4.270716</td>\n",
       "      <td>217.611599</td>\n",
       "      <td>24405.555346</td>\n",
       "      <td>7.086700</td>\n",
       "      <td>297.951852</td>\n",
       "      <td>359.623910</td>\n",
       "      <td>13.583526</td>\n",
       "      <td>54.589840</td>\n",
       "      <td>3.763906</td>\n",
       "      <td>0.0</td>\n",
       "    </tr>\n",
       "    <tr>\n",
       "      <th>2</th>\n",
       "      <td>6.648849</td>\n",
       "      <td>232.462013</td>\n",
       "      <td>30733.808648</td>\n",
       "      <td>5.656462</td>\n",
       "      <td>344.670335</td>\n",
       "      <td>267.809179</td>\n",
       "      <td>17.863444</td>\n",
       "      <td>35.411181</td>\n",
       "      <td>4.827527</td>\n",
       "      <td>0.0</td>\n",
       "    </tr>\n",
       "    <tr>\n",
       "      <th>3</th>\n",
       "      <td>7.083561</td>\n",
       "      <td>261.753637</td>\n",
       "      <td>21174.713291</td>\n",
       "      <td>7.314074</td>\n",
       "      <td>334.601013</td>\n",
       "      <td>582.848407</td>\n",
       "      <td>15.215849</td>\n",
       "      <td>90.367455</td>\n",
       "      <td>4.217553</td>\n",
       "      <td>0.0</td>\n",
       "    </tr>\n",
       "    <tr>\n",
       "      <th>4</th>\n",
       "      <td>9.323584</td>\n",
       "      <td>263.484560</td>\n",
       "      <td>15751.480111</td>\n",
       "      <td>5.196259</td>\n",
       "      <td>297.593625</td>\n",
       "      <td>409.878704</td>\n",
       "      <td>10.727265</td>\n",
       "      <td>74.669285</td>\n",
       "      <td>3.006650</td>\n",
       "      <td>0.0</td>\n",
       "    </tr>\n",
       "  </tbody>\n",
       "</table>\n",
       "</div>"
      ],
      "text/plain": [
       "         ph    Hardness        Solids  Chloramines     Sulfate  Conductivity  \\\n",
       "0  3.716080  180.196811  18630.362669     6.330435  334.601013    602.990359   \n",
       "1  4.270716  217.611599  24405.555346     7.086700  297.951852    359.623910   \n",
       "2  6.648849  232.462013  30733.808648     5.656462  344.670335    267.809179   \n",
       "3  7.083561  261.753637  21174.713291     7.314074  334.601013    582.848407   \n",
       "4  9.323584  263.484560  15751.480111     5.196259  297.593625    409.878704   \n",
       "\n",
       "   Organic_carbon  Trihalomethanes  Turbidity  Potability  \n",
       "0       15.285013        56.444076   4.500656         0.0  \n",
       "1       13.583526        54.589840   3.763906         0.0  \n",
       "2       17.863444        35.411181   4.827527         0.0  \n",
       "3       15.215849        90.367455   4.217553         0.0  \n",
       "4       10.727265        74.669285   3.006650         0.0  "
      ]
     },
     "execution_count": 224,
     "metadata": {},
     "output_type": "execute_result"
    }
   ],
   "source": [
    "data_imputed.head()"
   ]
  },
  {
   "cell_type": "code",
   "execution_count": 225,
   "metadata": {},
   "outputs": [
    {
     "data": {
      "text/plain": [
       "ph                 0\n",
       "Hardness           0\n",
       "Solids             0\n",
       "Chloramines        0\n",
       "Sulfate            0\n",
       "Conductivity       0\n",
       "Organic_carbon     0\n",
       "Trihalomethanes    0\n",
       "Turbidity          0\n",
       "dtype: int64"
      ]
     },
     "execution_count": 225,
     "metadata": {},
     "output_type": "execute_result"
    }
   ],
   "source": [
    "test_data_imputed.isnull().sum()"
   ]
  },
  {
   "cell_type": "code",
   "execution_count": 226,
   "metadata": {},
   "outputs": [
    {
     "data": {
      "text/plain": [
       "ph                 0\n",
       "Hardness           0\n",
       "Solids             0\n",
       "Chloramines        0\n",
       "Sulfate            0\n",
       "Conductivity       0\n",
       "Organic_carbon     0\n",
       "Trihalomethanes    0\n",
       "Turbidity          0\n",
       "Potability         0\n",
       "dtype: int64"
      ]
     },
     "execution_count": 226,
     "metadata": {},
     "output_type": "execute_result"
    }
   ],
   "source": [
    "data_imputed.isnull().sum()"
   ]
  },
  {
   "cell_type": "code",
   "execution_count": 227,
   "metadata": {},
   "outputs": [],
   "source": [
    "x = data_imputed.drop(columns=\"Potability\", axis=1)\n",
    "y = data_imputed[\"Potability\"]"
   ]
  },
  {
   "cell_type": "code",
   "execution_count": 228,
   "metadata": {},
   "outputs": [],
   "source": [
    "from sklearn.preprocessing import MinMaxScaler\n",
    "sc = MinMaxScaler()\n",
    "\n",
    "x_scaled = pd.DataFrame(sc.fit_transform(x))\n",
    "x_scaled.columns = x.columns"
   ]
  },
  {
   "cell_type": "code",
   "execution_count": 229,
   "metadata": {},
   "outputs": [],
   "source": [
    "scaled_test_data = pd.DataFrame(sc.fit_transform(test_data_imputed))\n",
    "scaled_test_data.columns = test_data_imputed.columns"
   ]
  },
  {
   "cell_type": "code",
   "execution_count": 230,
   "metadata": {},
   "outputs": [
    {
     "data": {
      "text/html": [
       "<div>\n",
       "<style scoped>\n",
       "    .dataframe tbody tr th:only-of-type {\n",
       "        vertical-align: middle;\n",
       "    }\n",
       "\n",
       "    .dataframe tbody tr th {\n",
       "        vertical-align: top;\n",
       "    }\n",
       "\n",
       "    .dataframe thead th {\n",
       "        text-align: right;\n",
       "    }\n",
       "</style>\n",
       "<table border=\"1\" class=\"dataframe\">\n",
       "  <thead>\n",
       "    <tr style=\"text-align: right;\">\n",
       "      <th></th>\n",
       "      <th>ph</th>\n",
       "      <th>Hardness</th>\n",
       "      <th>Solids</th>\n",
       "      <th>Chloramines</th>\n",
       "      <th>Sulfate</th>\n",
       "      <th>Conductivity</th>\n",
       "      <th>Organic_carbon</th>\n",
       "      <th>Trihalomethanes</th>\n",
       "      <th>Turbidity</th>\n",
       "      <th>Potability</th>\n",
       "    </tr>\n",
       "  </thead>\n",
       "  <tbody>\n",
       "    <tr>\n",
       "      <th>0</th>\n",
       "      <td>-2.287023e+00</td>\n",
       "      <td>-2.014920</td>\n",
       "      <td>-0.393153</td>\n",
       "      <td>-0.296658</td>\n",
       "      <td>0.000000</td>\n",
       "      <td>2.064035</td>\n",
       "      <td>0.280811</td>\n",
       "      <td>-0.628218</td>\n",
       "      <td>0.683966</td>\n",
       "      <td>-0.797064</td>\n",
       "    </tr>\n",
       "    <tr>\n",
       "      <th>1</th>\n",
       "      <td>-1.910342e+00</td>\n",
       "      <td>-0.886430</td>\n",
       "      <td>0.261073</td>\n",
       "      <td>0.178383</td>\n",
       "      <td>-0.997443</td>\n",
       "      <td>-0.954371</td>\n",
       "      <td>-0.235202</td>\n",
       "      <td>-0.744751</td>\n",
       "      <td>-0.264164</td>\n",
       "      <td>-0.797064</td>\n",
       "    </tr>\n",
       "    <tr>\n",
       "      <th>2</th>\n",
       "      <td>-2.952341e-01</td>\n",
       "      <td>-0.438517</td>\n",
       "      <td>0.977951</td>\n",
       "      <td>-0.720008</td>\n",
       "      <td>0.274047</td>\n",
       "      <td>-2.093124</td>\n",
       "      <td>1.062777</td>\n",
       "      <td>-1.950065</td>\n",
       "      <td>1.104620</td>\n",
       "      <td>-0.797064</td>\n",
       "    </tr>\n",
       "    <tr>\n",
       "      <th>3</th>\n",
       "      <td>-6.032060e-16</td>\n",
       "      <td>0.444965</td>\n",
       "      <td>-0.104923</td>\n",
       "      <td>0.321206</td>\n",
       "      <td>0.000000</td>\n",
       "      <td>1.814220</td>\n",
       "      <td>0.259835</td>\n",
       "      <td>1.503752</td>\n",
       "      <td>0.319639</td>\n",
       "      <td>-0.797064</td>\n",
       "    </tr>\n",
       "    <tr>\n",
       "      <th>4</th>\n",
       "      <td>1.521311e+00</td>\n",
       "      <td>0.497173</td>\n",
       "      <td>-0.719279</td>\n",
       "      <td>-1.009080</td>\n",
       "      <td>-1.007193</td>\n",
       "      <td>-0.331075</td>\n",
       "      <td>-1.101426</td>\n",
       "      <td>0.517175</td>\n",
       "      <td>-1.238683</td>\n",
       "      <td>-0.797064</td>\n",
       "    </tr>\n",
       "  </tbody>\n",
       "</table>\n",
       "</div>"
      ],
      "text/plain": [
       "             ph  Hardness    Solids  Chloramines   Sulfate  Conductivity  \\\n",
       "0 -2.287023e+00 -2.014920 -0.393153    -0.296658  0.000000      2.064035   \n",
       "1 -1.910342e+00 -0.886430  0.261073     0.178383 -0.997443     -0.954371   \n",
       "2 -2.952341e-01 -0.438517  0.977951    -0.720008  0.274047     -2.093124   \n",
       "3 -6.032060e-16  0.444965 -0.104923     0.321206  0.000000      1.814220   \n",
       "4  1.521311e+00  0.497173 -0.719279    -1.009080 -1.007193     -0.331075   \n",
       "\n",
       "   Organic_carbon  Trihalomethanes  Turbidity  Potability  \n",
       "0        0.280811        -0.628218   0.683966   -0.797064  \n",
       "1       -0.235202        -0.744751  -0.264164   -0.797064  \n",
       "2        1.062777        -1.950065   1.104620   -0.797064  \n",
       "3        0.259835         1.503752   0.319639   -0.797064  \n",
       "4       -1.101426         0.517175  -1.238683   -0.797064  "
      ]
     },
     "execution_count": 230,
     "metadata": {},
     "output_type": "execute_result"
    }
   ],
   "source": [
    "scaled_data.head()"
   ]
  },
  {
   "cell_type": "code",
   "execution_count": null,
   "metadata": {},
   "outputs": [],
   "source": []
  },
  {
   "cell_type": "code",
   "execution_count": 231,
   "metadata": {},
   "outputs": [
    {
     "data": {
      "text/plain": [
       "0       0.0\n",
       "1       0.0\n",
       "2       0.0\n",
       "3       0.0\n",
       "4       0.0\n",
       "       ... \n",
       "2255    0.0\n",
       "2256    0.0\n",
       "2257    0.0\n",
       "2258    0.0\n",
       "2259    0.0\n",
       "Name: Potability, Length: 2260, dtype: float64"
      ]
     },
     "execution_count": 231,
     "metadata": {},
     "output_type": "execute_result"
    }
   ],
   "source": [
    "y\n"
   ]
  },
  {
   "cell_type": "code",
   "execution_count": 232,
   "metadata": {},
   "outputs": [],
   "source": [
    "from sklearn.model_selection import train_test_split\n",
    "x_train, x_test, y_train, y_test = train_test_split(x,y, test_size=0.2, random_state=42)"
   ]
  },
  {
   "cell_type": "code",
   "execution_count": 233,
   "metadata": {},
   "outputs": [],
   "source": [
    "from sklearn.linear_model import LogisticRegression\n",
    "from sklearn.svm import SVC\n",
    "from sklearn.ensemble import RandomForestClassifier\n",
    "from sklearn.metrics import f1_score\n",
    "from sklearn.metrics import accuracy_score"
   ]
  },
  {
   "cell_type": "code",
   "execution_count": 234,
   "metadata": {},
   "outputs": [],
   "source": [
    "lr = LogisticRegression()\n",
    "sv = SVC(kernel=\"rbf\")\n",
    "rf = RandomForestClassifier()"
   ]
  },
  {
   "cell_type": "code",
   "execution_count": null,
   "metadata": {},
   "outputs": [],
   "source": []
  },
  {
   "cell_type": "code",
   "execution_count": 240,
   "metadata": {},
   "outputs": [],
   "source": [
    "lr.fit(x_train, y_train)\n",
    "ypred_lr = lr.predict(x_test)\n"
   ]
  },
  {
   "cell_type": "code",
   "execution_count": 241,
   "metadata": {},
   "outputs": [
    {
     "data": {
      "text/plain": [
       "0.6039823008849557"
      ]
     },
     "execution_count": 241,
     "metadata": {},
     "output_type": "execute_result"
    }
   ],
   "source": [
    "model.score(x_train, y_train)"
   ]
  },
  {
   "cell_type": "code",
   "execution_count": 237,
   "metadata": {},
   "outputs": [
    {
     "data": {
      "text/plain": [
       "0.6415929203539823"
      ]
     },
     "execution_count": 237,
     "metadata": {},
     "output_type": "execute_result"
    }
   ],
   "source": [
    "score = accuracy_score(y_test, ypred_lr)\n",
    "score"
   ]
  },
  {
   "cell_type": "code",
   "execution_count": 243,
   "metadata": {},
   "outputs": [
    {
     "data": {
      "text/plain": [
       "0.0"
      ]
     },
     "execution_count": 243,
     "metadata": {},
     "output_type": "execute_result"
    }
   ],
   "source": [
    "sv.fit(x_train, y_train)\n",
    "pred_sv = sv.predict(x_test)\n",
    "f1_score(y_test, pred_sv)"
   ]
  },
  {
   "cell_type": "code",
   "execution_count": 247,
   "metadata": {},
   "outputs": [],
   "source": [
    "sub = pd.read_csv(\"SampleSubmission.csv\")\n",
    "pred_sub = lr.predict(scaled_test_data)"
   ]
  },
  {
   "cell_type": "code",
   "execution_count": 248,
   "metadata": {},
   "outputs": [],
   "source": [
    "sub[\"Potability\"] = pred_sub"
   ]
  },
  {
   "cell_type": "code",
   "execution_count": 252,
   "metadata": {},
   "outputs": [
    {
     "data": {
      "text/plain": [
       "1.0    756\n",
       "0.0    260\n",
       "Name: Potability, dtype: int64"
      ]
     },
     "execution_count": 252,
     "metadata": {},
     "output_type": "execute_result"
    }
   ],
   "source": [
    "sub[\"Potability\"].value_counts()"
   ]
  },
  {
   "cell_type": "code",
   "execution_count": 253,
   "metadata": {},
   "outputs": [],
   "source": [
    "sub.to_csv(\"submission1\", index=False)"
   ]
  },
  {
   "cell_type": "code",
   "execution_count": null,
   "metadata": {},
   "outputs": [],
   "source": []
  }
 ],
 "metadata": {
  "kernelspec": {
   "display_name": "Python 3",
   "language": "python",
   "name": "python3"
  },
  "language_info": {
   "codemirror_mode": {
    "name": "ipython",
    "version": 3
   },
   "file_extension": ".py",
   "mimetype": "text/x-python",
   "name": "python",
   "nbconvert_exporter": "python",
   "pygments_lexer": "ipython3",
   "version": "3.8.5"
  }
 },
 "nbformat": 4,
 "nbformat_minor": 4
}
