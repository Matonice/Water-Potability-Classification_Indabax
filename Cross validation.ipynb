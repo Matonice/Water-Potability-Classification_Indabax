{
 "cells": [
  {
   "cell_type": "code",
   "execution_count": 1,
   "metadata": {},
   "outputs": [],
   "source": [
    "import pandas as pd\n",
    "import numpy as np\n",
    "from sklearn.ensemble import RandomForestClassifier\n",
    "from sklearn.linear_model import LogisticRegression\n",
    "from xgboost import XGBClassifier \n",
    "from sklearn.preprocessing import StandardScaler\n",
    "from sklearn.svm import SVC"
   ]
  },
  {
   "cell_type": "code",
   "execution_count": 2,
   "metadata": {},
   "outputs": [],
   "source": [
    "train = pd.read_csv(\"train_folds.csv\")\n",
    "test = pd.read_csv(\"test.csv\")\n",
    "sample = pd.read_csv(\"SampleSubmission.csv\")"
   ]
  },
  {
   "cell_type": "code",
   "execution_count": 3,
   "metadata": {},
   "outputs": [],
   "source": [
    "#train = train.drop(columns=\"region_area_\", axis=1)\n",
    "#test = test.drop(columns=\"region_area_\", axis=1)"
   ]
  },
  {
   "cell_type": "code",
   "execution_count": 4,
   "metadata": {},
   "outputs": [
    {
     "data": {
      "text/plain": [
       "Unnamed: 0         0\n",
       "Unnamed: 0.1       0\n",
       "ph                 0\n",
       "Hardness           0\n",
       "Solids             0\n",
       "Chloramines        0\n",
       "Sulfate            0\n",
       "Conductivity       0\n",
       "Organic_carbon     0\n",
       "Trihalomethanes    0\n",
       "Turbidity          0\n",
       "dtype: int64"
      ]
     },
     "execution_count": 4,
     "metadata": {},
     "output_type": "execute_result"
    }
   ],
   "source": [
    "test.isnull().sum()"
   ]
  },
  {
   "cell_type": "code",
   "execution_count": 5,
   "metadata": {},
   "outputs": [],
   "source": [
    "useful_features = [i for i in train.columns if i not in(\"region_area_\", \"Potability\", \"kfold\")]\n",
    "test = test[useful_features]"
   ]
  },
  {
   "cell_type": "code",
   "execution_count": 6,
   "metadata": {},
   "outputs": [
    {
     "name": "stderr",
     "output_type": "stream",
     "text": [
      "C:\\Users\\HP\\anaconda3\\lib\\site-packages\\xgboost\\sklearn.py:888: UserWarning: The use of label encoder in XGBClassifier is deprecated and will be removed in a future release. To remove this warning, do the following: 1) Pass option use_label_encoder=False when constructing XGBClassifier object; and 2) Encode your labels (y) as integers starting with 0, i.e. 0, 1, 2, ..., [num_class - 1].\n",
      "  warnings.warn(label_encoder_deprecation_msg, UserWarning)\n"
     ]
    },
    {
     "name": "stdout",
     "output_type": "stream",
     "text": [
      "[16:04:10] WARNING: ..\\src\\learner.cc:1061: Starting in XGBoost 1.3.0, the default evaluation metric used with the objective 'binary:logistic' was changed from 'error' to 'logloss'. Explicitly set eval_metric if you'd like to restore the old behavior.\n"
     ]
    },
    {
     "name": "stderr",
     "output_type": "stream",
     "text": [
      "C:\\Users\\HP\\anaconda3\\lib\\site-packages\\xgboost\\sklearn.py:888: UserWarning: The use of label encoder in XGBClassifier is deprecated and will be removed in a future release. To remove this warning, do the following: 1) Pass option use_label_encoder=False when constructing XGBClassifier object; and 2) Encode your labels (y) as integers starting with 0, i.e. 0, 1, 2, ..., [num_class - 1].\n",
      "  warnings.warn(label_encoder_deprecation_msg, UserWarning)\n"
     ]
    },
    {
     "name": "stdout",
     "output_type": "stream",
     "text": [
      "[16:04:10] WARNING: ..\\src\\learner.cc:1061: Starting in XGBoost 1.3.0, the default evaluation metric used with the objective 'binary:logistic' was changed from 'error' to 'logloss'. Explicitly set eval_metric if you'd like to restore the old behavior.\n"
     ]
    },
    {
     "name": "stderr",
     "output_type": "stream",
     "text": [
      "C:\\Users\\HP\\anaconda3\\lib\\site-packages\\xgboost\\sklearn.py:888: UserWarning: The use of label encoder in XGBClassifier is deprecated and will be removed in a future release. To remove this warning, do the following: 1) Pass option use_label_encoder=False when constructing XGBClassifier object; and 2) Encode your labels (y) as integers starting with 0, i.e. 0, 1, 2, ..., [num_class - 1].\n",
      "  warnings.warn(label_encoder_deprecation_msg, UserWarning)\n"
     ]
    },
    {
     "name": "stdout",
     "output_type": "stream",
     "text": [
      "[16:04:11] WARNING: ..\\src\\learner.cc:1061: Starting in XGBoost 1.3.0, the default evaluation metric used with the objective 'binary:logistic' was changed from 'error' to 'logloss'. Explicitly set eval_metric if you'd like to restore the old behavior.\n"
     ]
    },
    {
     "name": "stderr",
     "output_type": "stream",
     "text": [
      "C:\\Users\\HP\\anaconda3\\lib\\site-packages\\xgboost\\sklearn.py:888: UserWarning: The use of label encoder in XGBClassifier is deprecated and will be removed in a future release. To remove this warning, do the following: 1) Pass option use_label_encoder=False when constructing XGBClassifier object; and 2) Encode your labels (y) as integers starting with 0, i.e. 0, 1, 2, ..., [num_class - 1].\n",
      "  warnings.warn(label_encoder_deprecation_msg, UserWarning)\n"
     ]
    },
    {
     "name": "stdout",
     "output_type": "stream",
     "text": [
      "[16:04:11] WARNING: ..\\src\\learner.cc:1061: Starting in XGBoost 1.3.0, the default evaluation metric used with the objective 'binary:logistic' was changed from 'error' to 'logloss'. Explicitly set eval_metric if you'd like to restore the old behavior.\n"
     ]
    },
    {
     "name": "stderr",
     "output_type": "stream",
     "text": [
      "C:\\Users\\HP\\anaconda3\\lib\\site-packages\\xgboost\\sklearn.py:888: UserWarning: The use of label encoder in XGBClassifier is deprecated and will be removed in a future release. To remove this warning, do the following: 1) Pass option use_label_encoder=False when constructing XGBClassifier object; and 2) Encode your labels (y) as integers starting with 0, i.e. 0, 1, 2, ..., [num_class - 1].\n",
      "  warnings.warn(label_encoder_deprecation_msg, UserWarning)\n"
     ]
    },
    {
     "name": "stdout",
     "output_type": "stream",
     "text": [
      "[16:04:12] WARNING: ..\\src\\learner.cc:1061: Starting in XGBoost 1.3.0, the default evaluation metric used with the objective 'binary:logistic' was changed from 'error' to 'logloss'. Explicitly set eval_metric if you'd like to restore the old behavior.\n",
      "0.6274336283185841\n"
     ]
    }
   ],
   "source": [
    "final_predictions =[]\n",
    "score = []\n",
    "for fold in range(5):\n",
    "    x_train = train[train.kfold != fold].reset_index(drop=True)\n",
    "    x_valid = train[train.kfold == fold].reset_index(drop=True)\n",
    "    df_test = test.copy()\n",
    "    \n",
    "    y_train = x_train.Potability\n",
    "    y_valid = x_valid.Potability\n",
    "    \n",
    "    x_train = x_train[useful_features]\n",
    "    x_valid = x_valid[useful_features]\n",
    "    \n",
    "    sc = StandardScaler()\n",
    "    scaled_x_train = pd.DataFrame(sc.fit_transform(x_train))\n",
    "    scaled_x_valid = pd.DataFrame(sc.transform(x_valid))\n",
    "    scaled_test = pd.DataFrame(sc.transform(df_test))\n",
    "    \n",
    "    scaled_x_train.columns = x_train.columns\n",
    "    scaled_x_valid.columns = x_valid.columns\n",
    "    scaled_test.columns = df_test.columns\n",
    "    \n",
    "    \n",
    "    model = XGBClassifier(random_state=fold)\n",
    "    model.fit(scaled_x_train, y_train)\n",
    "    preds = model.predict(scaled_x_valid)\n",
    "    test_preds = model.predict(scaled_test)\n",
    "    \n",
    "    final_predictions.append(test_preds)\n",
    "    scores = model.score(scaled_x_valid, y_valid)\n",
    "    score.append(scores)\n",
    "\n",
    "print(np.mean(score))"
   ]
  },
  {
   "cell_type": "code",
   "execution_count": 7,
   "metadata": {},
   "outputs": [
    {
     "data": {
      "text/html": [
       "<div>\n",
       "<style scoped>\n",
       "    .dataframe tbody tr th:only-of-type {\n",
       "        vertical-align: middle;\n",
       "    }\n",
       "\n",
       "    .dataframe tbody tr th {\n",
       "        vertical-align: top;\n",
       "    }\n",
       "\n",
       "    .dataframe thead th {\n",
       "        text-align: right;\n",
       "    }\n",
       "</style>\n",
       "<table border=\"1\" class=\"dataframe\">\n",
       "  <thead>\n",
       "    <tr style=\"text-align: right;\">\n",
       "      <th></th>\n",
       "      <th>ph</th>\n",
       "      <th>Hardness</th>\n",
       "      <th>Solids</th>\n",
       "      <th>Chloramines</th>\n",
       "      <th>Sulfate</th>\n",
       "      <th>Conductivity</th>\n",
       "      <th>Organic_carbon</th>\n",
       "      <th>Trihalomethanes</th>\n",
       "      <th>Turbidity</th>\n",
       "    </tr>\n",
       "  </thead>\n",
       "  <tbody>\n",
       "    <tr>\n",
       "      <th>0</th>\n",
       "      <td>-2.311229</td>\n",
       "      <td>-2.014813</td>\n",
       "      <td>-0.397549</td>\n",
       "      <td>-0.299787</td>\n",
       "      <td>0.011420</td>\n",
       "      <td>2.040321</td>\n",
       "      <td>0.271125</td>\n",
       "      <td>-0.640404</td>\n",
       "      <td>0.679318</td>\n",
       "    </tr>\n",
       "    <tr>\n",
       "      <th>1</th>\n",
       "      <td>-0.288182</td>\n",
       "      <td>-0.433644</td>\n",
       "      <td>0.973033</td>\n",
       "      <td>-0.726138</td>\n",
       "      <td>0.282551</td>\n",
       "      <td>-2.095418</td>\n",
       "      <td>1.046888</td>\n",
       "      <td>-1.954992</td>\n",
       "      <td>1.096337</td>\n",
       "    </tr>\n",
       "    <tr>\n",
       "      <th>2</th>\n",
       "      <td>0.011685</td>\n",
       "      <td>0.452510</td>\n",
       "      <td>-0.109429</td>\n",
       "      <td>0.322456</td>\n",
       "      <td>0.011420</td>\n",
       "      <td>1.791793</td>\n",
       "      <td>0.250316</td>\n",
       "      <td>1.479860</td>\n",
       "      <td>0.318138</td>\n",
       "    </tr>\n",
       "    <tr>\n",
       "      <th>3</th>\n",
       "      <td>-1.713933</td>\n",
       "      <td>-0.300235</td>\n",
       "      <td>1.331272</td>\n",
       "      <td>-0.474916</td>\n",
       "      <td>-0.454492</td>\n",
       "      <td>-0.260905</td>\n",
       "      <td>1.630992</td>\n",
       "      <td>-0.265755</td>\n",
       "      <td>0.678745</td>\n",
       "    </tr>\n",
       "    <tr>\n",
       "      <th>4</th>\n",
       "      <td>0.564415</td>\n",
       "      <td>1.005015</td>\n",
       "      <td>-0.046081</td>\n",
       "      <td>0.502237</td>\n",
       "      <td>-0.491188</td>\n",
       "      <td>-0.724986</td>\n",
       "      <td>-0.795330</td>\n",
       "      <td>-1.048211</td>\n",
       "      <td>0.846426</td>\n",
       "    </tr>\n",
       "    <tr>\n",
       "      <th>...</th>\n",
       "      <td>...</td>\n",
       "      <td>...</td>\n",
       "      <td>...</td>\n",
       "      <td>...</td>\n",
       "      <td>...</td>\n",
       "      <td>...</td>\n",
       "      <td>...</td>\n",
       "      <td>...</td>\n",
       "      <td>...</td>\n",
       "    </tr>\n",
       "    <tr>\n",
       "      <th>1803</th>\n",
       "      <td>0.011685</td>\n",
       "      <td>0.930078</td>\n",
       "      <td>2.015903</td>\n",
       "      <td>0.939759</td>\n",
       "      <td>0.011420</td>\n",
       "      <td>1.370773</td>\n",
       "      <td>-0.160698</td>\n",
       "      <td>-0.015635</td>\n",
       "      <td>1.142074</td>\n",
       "    </tr>\n",
       "    <tr>\n",
       "      <th>1804</th>\n",
       "      <td>0.883870</td>\n",
       "      <td>1.064324</td>\n",
       "      <td>-0.974709</td>\n",
       "      <td>0.325441</td>\n",
       "      <td>-0.532085</td>\n",
       "      <td>1.232073</td>\n",
       "      <td>1.319310</td>\n",
       "      <td>-0.532664</td>\n",
       "      <td>0.318531</td>\n",
       "    </tr>\n",
       "    <tr>\n",
       "      <th>1805</th>\n",
       "      <td>-0.310855</td>\n",
       "      <td>-0.031508</td>\n",
       "      <td>-0.138346</td>\n",
       "      <td>-0.615372</td>\n",
       "      <td>0.011420</td>\n",
       "      <td>-0.547910</td>\n",
       "      <td>-1.382327</td>\n",
       "      <td>-1.577383</td>\n",
       "      <td>0.851617</td>\n",
       "    </tr>\n",
       "    <tr>\n",
       "      <th>1806</th>\n",
       "      <td>-0.158929</td>\n",
       "      <td>-0.885777</td>\n",
       "      <td>0.243737</td>\n",
       "      <td>-0.156828</td>\n",
       "      <td>-0.014815</td>\n",
       "      <td>-0.453112</td>\n",
       "      <td>0.519935</td>\n",
       "      <td>1.282947</td>\n",
       "      <td>-0.384746</td>\n",
       "    </tr>\n",
       "    <tr>\n",
       "      <th>1807</th>\n",
       "      <td>-0.469863</td>\n",
       "      <td>1.072957</td>\n",
       "      <td>0.522729</td>\n",
       "      <td>1.053400</td>\n",
       "      <td>0.011420</td>\n",
       "      <td>-0.067367</td>\n",
       "      <td>0.687255</td>\n",
       "      <td>0.417845</td>\n",
       "      <td>0.910313</td>\n",
       "    </tr>\n",
       "  </tbody>\n",
       "</table>\n",
       "<p>1808 rows × 9 columns</p>\n",
       "</div>"
      ],
      "text/plain": [
       "            ph  Hardness    Solids  Chloramines   Sulfate  Conductivity  \\\n",
       "0    -2.311229 -2.014813 -0.397549    -0.299787  0.011420      2.040321   \n",
       "1    -0.288182 -0.433644  0.973033    -0.726138  0.282551     -2.095418   \n",
       "2     0.011685  0.452510 -0.109429     0.322456  0.011420      1.791793   \n",
       "3    -1.713933 -0.300235  1.331272    -0.474916 -0.454492     -0.260905   \n",
       "4     0.564415  1.005015 -0.046081     0.502237 -0.491188     -0.724986   \n",
       "...        ...       ...       ...          ...       ...           ...   \n",
       "1803  0.011685  0.930078  2.015903     0.939759  0.011420      1.370773   \n",
       "1804  0.883870  1.064324 -0.974709     0.325441 -0.532085      1.232073   \n",
       "1805 -0.310855 -0.031508 -0.138346    -0.615372  0.011420     -0.547910   \n",
       "1806 -0.158929 -0.885777  0.243737    -0.156828 -0.014815     -0.453112   \n",
       "1807 -0.469863  1.072957  0.522729     1.053400  0.011420     -0.067367   \n",
       "\n",
       "      Organic_carbon  Trihalomethanes  Turbidity  \n",
       "0           0.271125        -0.640404   0.679318  \n",
       "1           1.046888        -1.954992   1.096337  \n",
       "2           0.250316         1.479860   0.318138  \n",
       "3           1.630992        -0.265755   0.678745  \n",
       "4          -0.795330        -1.048211   0.846426  \n",
       "...              ...              ...        ...  \n",
       "1803       -0.160698        -0.015635   1.142074  \n",
       "1804        1.319310        -0.532664   0.318531  \n",
       "1805       -1.382327        -1.577383   0.851617  \n",
       "1806        0.519935         1.282947  -0.384746  \n",
       "1807        0.687255         0.417845   0.910313  \n",
       "\n",
       "[1808 rows x 9 columns]"
      ]
     },
     "execution_count": 7,
     "metadata": {},
     "output_type": "execute_result"
    }
   ],
   "source": [
    "scaled_x_train"
   ]
  },
  {
   "cell_type": "code",
   "execution_count": 8,
   "metadata": {},
   "outputs": [],
   "source": [
    "final_preds = np.mean(np.column_stack(final_predictions),axis=1)\n",
    "final_preds = [1 if i >=0.3 else 0 for i in final_preds]"
   ]
  },
  {
   "cell_type": "code",
   "execution_count": 9,
   "metadata": {},
   "outputs": [],
   "source": [
    "sample.Potability = final_preds\n",
    "sample.to_csv(\"Submission9.csv\", index=False)"
   ]
  },
  {
   "cell_type": "code",
   "execution_count": 10,
   "metadata": {},
   "outputs": [
    {
     "data": {
      "text/plain": [
       "Potability\n",
       "0    638\n",
       "1    378\n",
       "dtype: int64"
      ]
     },
     "execution_count": 10,
     "metadata": {},
     "output_type": "execute_result"
    }
   ],
   "source": [
    "sample.value_counts(sample.Potability)"
   ]
  },
  {
   "cell_type": "code",
   "execution_count": null,
   "metadata": {},
   "outputs": [],
   "source": []
  }
 ],
 "metadata": {
  "kernelspec": {
   "display_name": "Python 3",
   "language": "python",
   "name": "python3"
  },
  "language_info": {
   "codemirror_mode": {
    "name": "ipython",
    "version": 3
   },
   "file_extension": ".py",
   "mimetype": "text/x-python",
   "name": "python",
   "nbconvert_exporter": "python",
   "pygments_lexer": "ipython3",
   "version": "3.8.5"
  }
 },
 "nbformat": 4,
 "nbformat_minor": 4
}
